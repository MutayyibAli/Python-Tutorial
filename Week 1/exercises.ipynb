{
 "cells": [
  {
   "cell_type": "markdown",
   "id": "5f38da6d",
   "metadata": {},
   "source": [
    "# Exercise\n"
   ]
  },
  {
   "cell_type": "markdown",
   "id": "a76eaa19",
   "metadata": {},
   "source": [
    "## 1. 🎂 Birthday Message\n",
    "\n",
    "Problem: Ask the user for their name and age, then print a message like\n",
    "“Happy 25th Birthday, Ali!”\n",
    "\n",
    "**Steps:**\n",
    "\n",
    "1. Ask the user to enter their name.\n",
    "2. Ask the user to enter their age.\n",
    "3. Display a message wishing them a happy birthday with their name and age.\n"
   ]
  },
  {
   "cell_type": "code",
   "execution_count": null,
   "id": "1e345556",
   "metadata": {
    "vscode": {
     "languageId": "plaintext"
    }
   },
   "outputs": [],
   "source": []
  },
  {
   "cell_type": "markdown",
   "id": "21f3cef8",
   "metadata": {},
   "source": [
    "## 2. 🍎 Fruit Basket Counter\n",
    "\n",
    "Problem: Ask how many apples and how many mangoes you have, then print the total number of fruits.\n",
    "\n",
    "**Steps:**\n",
    "\n",
    "1. Ask the user how many apples they have.\n",
    "2. Ask the user how many mangoes they have.\n",
    "3. Add both numbers to find the total.\n",
    "4. Display the total number of fruits.\n"
   ]
  },
  {
   "cell_type": "code",
   "execution_count": null,
   "id": "16d43835",
   "metadata": {
    "vscode": {
     "languageId": "plaintext"
    }
   },
   "outputs": [],
   "source": []
  },
  {
   "cell_type": "markdown",
   "id": "459cc2c6",
   "metadata": {},
   "source": [
    "## 3. 🧾 Grocery Bill\n",
    "\n",
    "Problem: Ask for the prices of two items and print the total bill.\n",
    "\n",
    "**Steps:**\n",
    "\n",
    "1. Ask the user to enter the price of the first item.\n",
    "2. Ask for the price of the second item.\n",
    "3. Add the two prices.\n",
    "4. Display the total cost.\n"
   ]
  },
  {
   "cell_type": "code",
   "execution_count": null,
   "id": "ad715739",
   "metadata": {
    "vscode": {
     "languageId": "plaintext"
    }
   },
   "outputs": [],
   "source": []
  },
  {
   "cell_type": "markdown",
   "id": "e6e4b6b0",
   "metadata": {},
   "source": [
    "## 4. 💱 Currency Converter (PKR → USD)\n",
    "\n",
    "Problem: Write a program that converts an amount in Pakistani Rupees (PKR) to US Dollars (USD).\n",
    "Assume 1 USD = 280 PKR.\n",
    "\n",
    "**Steps:**\n",
    "\n",
    "1. Ask the user to enter the amount in PKR.\n",
    "2. Divide the amount by 280 to convert it into USD.\n",
    "3. Display the result in USD.\n"
   ]
  },
  {
   "cell_type": "code",
   "execution_count": null,
   "id": "394afe3b",
   "metadata": {
    "vscode": {
     "languageId": "plaintext"
    }
   },
   "outputs": [],
   "source": []
  },
  {
   "cell_type": "markdown",
   "id": "7abe2969",
   "metadata": {},
   "source": [
    "## 5. 💰 Simple Interest Calculator\n",
    "\n",
    "Problem: Write a program to calculate simple interest using the formula\n",
    "Interest = (Principal × Rate × Time) / 100.\n",
    "\n",
    "**Steps:**\n",
    "\n",
    "1. Ask the user for the principal amount.\n",
    "2. Ask for the rate of interest.\n",
    "3. Ask for the time period.\n",
    "4. Multiply principal, rate, and time.\n",
    "5. Divide the result by 100.\n",
    "6. Display the calculated interest.\n"
   ]
  },
  {
   "cell_type": "code",
   "execution_count": null,
   "id": "8d274f2d",
   "metadata": {
    "vscode": {
     "languageId": "plaintext"
    }
   },
   "outputs": [],
   "source": []
  },
  {
   "cell_type": "markdown",
   "id": "21d97e11",
   "metadata": {},
   "source": [
    "## 6. 🎢 Ticket Price Calculator\n",
    "\n",
    "Problem: Ask the user how many tickets they want and the price of one ticket.\n",
    "Print the total cost.\n",
    "\n",
    "**Steps:**\n",
    "\n",
    "1. Ask the user how many tickets they want.\n",
    "2. Ask the price of one ticket.\n",
    "3. Multiply both values.\n",
    "4. Display the total cost.\n"
   ]
  },
  {
   "cell_type": "code",
   "execution_count": null,
   "id": "b35e3276",
   "metadata": {
    "vscode": {
     "languageId": "plaintext"
    }
   },
   "outputs": [],
   "source": []
  },
  {
   "cell_type": "markdown",
   "id": "7ef47ba4",
   "metadata": {},
   "source": [
    "## 7. 📏 Perimeter of a Square\n",
    "\n",
    "Problem: Ask for the side length of a square and print its perimeter.\n",
    "\n",
    "**Steps:**\n",
    "\n",
    "1. Ask the user to enter the side length of the square.\n",
    "2. Multiply the side by 4 to get the perimeter.\n",
    "3. Display the perimeter.\n"
   ]
  },
  {
   "cell_type": "code",
   "execution_count": null,
   "id": "3746146e",
   "metadata": {
    "vscode": {
     "languageId": "plaintext"
    }
   },
   "outputs": [],
   "source": []
  },
  {
   "cell_type": "markdown",
   "id": "28dd915e",
   "metadata": {},
   "source": [
    "## 8. 💧 Water Bill Estimator\n",
    "\n",
    "Problem: Write a program that calculates a water bill.\n",
    "Ask the user for the number of liters used, and assume the rate is 0.5 PKR per liter.\n",
    "\n",
    "**Steps:**\n",
    "\n",
    "1. Ask the user to enter the number of liters used.\n",
    "2. Multiply the number of liters by 0.5.\n",
    "3. Display the total bill.\n"
   ]
  },
  {
   "cell_type": "code",
   "execution_count": null,
   "id": "bb90a38e",
   "metadata": {
    "vscode": {
     "languageId": "plaintext"
    }
   },
   "outputs": [],
   "source": []
  },
  {
   "cell_type": "markdown",
   "id": "eef49814",
   "metadata": {},
   "source": [
    "## 9. 🧮 Area of a Rectangle\n",
    "\n",
    "Problem: Write a Python program that takes the length and width of a rectangle as input and prints its area.\n",
    "\n",
    "**Steps:**\n",
    "\n",
    "1. Ask the user for the length of the rectangle.\n",
    "2. Ask for the width of the rectangle.\n",
    "3. Multiply length and width.\n",
    "4. Display the area.\n"
   ]
  },
  {
   "cell_type": "code",
   "execution_count": null,
   "id": "334ce417",
   "metadata": {
    "vscode": {
     "languageId": "plaintext"
    }
   },
   "outputs": [],
   "source": []
  },
  {
   "cell_type": "markdown",
   "id": "41abdb6b",
   "metadata": {},
   "source": [
    "## 10. 🌡️ Temperature Converter (Celsius → Fahrenheit)\n",
    "\n",
    "Problem: Write a program that converts a temperature in Celsius to Fahrenheit using the formula\n",
    "F = (C × 9/5) + 32.\n",
    "\n",
    "**Steps:**\n",
    "\n",
    "1. Ask the user to enter the temperature in Celsius.\n",
    "2. Multiply the Celsius value by 9.\n",
    "3. Divide the result by 5.\n",
    "4. Add 32 to get Fahrenheit.\n",
    "5. Display the result.\n"
   ]
  },
  {
   "cell_type": "code",
   "execution_count": null,
   "id": "b42eb975",
   "metadata": {
    "vscode": {
     "languageId": "plaintext"
    }
   },
   "outputs": [],
   "source": []
  },
  {
   "cell_type": "markdown",
   "id": "a08e9efd",
   "metadata": {},
   "source": [
    "## 11. 🧊 Cube and Square Finder\n",
    "\n",
    "Problem: Write a program that takes a number and prints its square and cube.\n",
    "\n",
    "**Steps:**\n",
    "\n",
    "1. Ask the user to enter a number.\n",
    "2. Multiply the number by itself to find the square.\n",
    "3. Multiply the number three times to find the cube.\n",
    "4. Display both results.\n"
   ]
  },
  {
   "cell_type": "code",
   "execution_count": null,
   "id": "42936489",
   "metadata": {
    "vscode": {
     "languageId": "plaintext"
    }
   },
   "outputs": [],
   "source": []
  },
  {
   "cell_type": "markdown",
   "id": "fef61149",
   "metadata": {},
   "source": [
    "## 12. 🔢 Average of Three Numbers\n",
    "\n",
    "Problem: Write a program that asks the user to enter three numbers and prints their average.\n",
    "\n",
    "**Steps:**\n",
    "\n",
    "1. Ask the user to enter the first number.\n",
    "2. Ask for the second number.\n",
    "3. Ask for the third number.\n",
    "4. Add all three numbers.\n",
    "5. Divide the sum by 3.\n",
    "6. Display the average.\n"
   ]
  },
  {
   "cell_type": "code",
   "execution_count": null,
   "id": "8e8f95fa",
   "metadata": {
    "vscode": {
     "languageId": "plaintext"
    }
   },
   "outputs": [],
   "source": []
  },
  {
   "cell_type": "markdown",
   "id": "3fe69ce3",
   "metadata": {},
   "source": [
    "## 13. 🕰️ Age Calculator\n",
    "\n",
    "Problem: Ask the user for their name and birth year, then calculate and display their age in 2025.\n",
    "\n",
    "**Steps:**\n",
    "\n",
    "1. Ask the user for their name.\n",
    "2. Ask for their birth year.\n",
    "3. Subtract the birth year from 2025.\n",
    "4. Display their name and age.\n"
   ]
  },
  {
   "cell_type": "code",
   "execution_count": null,
   "id": "efaa3466",
   "metadata": {
    "vscode": {
     "languageId": "plaintext"
    }
   },
   "outputs": [],
   "source": []
  },
  {
   "cell_type": "markdown",
   "id": "41aeaca8",
   "metadata": {},
   "source": [
    "## 14. 🧠 Remainder Finder\n",
    "\n",
    "Problem: Ask the user for two numbers and print the remainder when the first number is divided by the second.\n",
    "\n",
    "**Steps:**\n",
    "\n",
    "1. Ask the user for the first number.\n",
    "2. Ask for the second number.\n",
    "3. Find the remainder when the first is divided by the second.\n",
    "4. Display the remainder.\n"
   ]
  },
  {
   "cell_type": "code",
   "execution_count": null,
   "id": "27fa65f9",
   "metadata": {
    "vscode": {
     "languageId": "plaintext"
    }
   },
   "outputs": [],
   "source": []
  },
  {
   "cell_type": "markdown",
   "id": "fde122a4",
   "metadata": {},
   "source": [
    "## 15. ⏱️ Minutes to Hours Converter\n",
    "\n",
    "Problem: Write a program that takes time in minutes and converts it into hours.\n",
    "\n",
    "**Steps:**\n",
    "\n",
    "1. Ask the user to enter time in minutes.\n",
    "2. Divide the minutes by 60 to find hours.\n",
    "3. Display the result.\n"
   ]
  },
  {
   "cell_type": "code",
   "execution_count": null,
   "id": "124bc24a",
   "metadata": {
    "vscode": {
     "languageId": "plaintext"
    }
   },
   "outputs": [],
   "source": []
  },
  {
   "cell_type": "markdown",
   "id": "843a8fa7",
   "metadata": {},
   "source": [
    "## 16. 📅 Days to Weeks\n",
    "\n",
    "Problem: Write a program that converts a number of days into weeks and remaining days.\n",
    "\n",
    "**Steps:**\n",
    "\n",
    "1. Ask the user to enter the number of days.\n",
    "2. Divide the days by 7 to find the number of weeks.\n",
    "3. Find the remaining days using the remainder.\n",
    "4. Display both weeks and remaining days.\n"
   ]
  },
  {
   "cell_type": "code",
   "execution_count": null,
   "id": "e340c891",
   "metadata": {
    "vscode": {
     "languageId": "plaintext"
    }
   },
   "outputs": [],
   "source": []
  },
  {
   "cell_type": "markdown",
   "id": "41d6e136",
   "metadata": {},
   "source": [
    "## 17. 🧃 Discount Calculator\n",
    "\n",
    "Problem: Ask for the price of an item and the discount percentage.\n",
    "Print the final price after discount.\n",
    "\n",
    "**Steps:**\n",
    "\n",
    "1. Ask the user for the original price.\n",
    "2. Ask for the discount percentage.\n",
    "3. Calculate the discount amount.\n",
    "4. Subtract the discount from the original price.\n",
    "5. Display the final price.\n"
   ]
  },
  {
   "cell_type": "code",
   "execution_count": null,
   "id": "4f1f22be",
   "metadata": {
    "vscode": {
     "languageId": "plaintext"
    }
   },
   "outputs": [],
   "source": []
  },
  {
   "cell_type": "markdown",
   "id": "2f583398",
   "metadata": {},
   "source": [
    "## 18. 🏠 Rent Splitter\n",
    "\n",
    "Problem: Ask for the total monthly rent and number of roommates.\n",
    "Print how much each roommate pays.\n",
    "\n",
    "**Steps:**\n",
    "\n",
    "1. Ask for the total rent amount.\n",
    "2. Ask for the number of roommates.\n",
    "3. Divide the total rent by the number of roommates.\n",
    "4. Display how much each person pays.\n"
   ]
  },
  {
   "cell_type": "code",
   "execution_count": null,
   "id": "2fb2bbd6",
   "metadata": {
    "vscode": {
     "languageId": "plaintext"
    }
   },
   "outputs": [],
   "source": []
  },
  {
   "cell_type": "markdown",
   "id": "5abb38fa",
   "metadata": {},
   "source": [
    "## 19. 🚗 Speed Calculator\n",
    "\n",
    "Problem: Write a program that calculates speed using the formula\n",
    "Speed = Distance / Time.\n",
    "Take distance (km) and time (hours) as input.\n",
    "\n",
    "**Steps:**\n",
    "\n",
    "1. Ask for the distance traveled (in km).\n",
    "2. Ask for the time taken (in hours).\n",
    "3. Divide distance by time.\n",
    "4. Display the speed.\n"
   ]
  },
  {
   "cell_type": "code",
   "execution_count": null,
   "id": "40f13344",
   "metadata": {
    "vscode": {
     "languageId": "plaintext"
    }
   },
   "outputs": [],
   "source": []
  },
  {
   "cell_type": "markdown",
   "id": "b52cf05f",
   "metadata": {},
   "source": [
    "## 20. 🧍 First and Last Name Formatter\n",
    "\n",
    "Problem: Ask for your first and last name separately.\n",
    "Print your full name in the format “Last, First”.\n",
    "\n",
    "**Steps:**\n",
    "\n",
    "1. Ask the user for their first name.\n",
    "2. Ask for their last name.\n",
    "3. Combine them in the format “Last, First”.\n",
    "4. Display the formatted name.\n"
   ]
  },
  {
   "cell_type": "code",
   "execution_count": null,
   "id": "5daba6c6",
   "metadata": {
    "vscode": {
     "languageId": "plaintext"
    }
   },
   "outputs": [],
   "source": []
  },
  {
   "cell_type": "markdown",
   "id": "0f293b22",
   "metadata": {},
   "source": [
    "## 21. 🕯️ Candle Burn Time\n",
    "\n",
    "Problem: Ask how many candles you have and how long each burns (in hours).\n",
    "Print the total burning time for all candles.\n",
    "\n",
    "**Steps:**\n",
    "\n",
    "1. Ask how many candles you have.\n",
    "2. Ask how long one candle burns in hours.\n",
    "3. Multiply both values.\n",
    "4. Display the total burning time.\n"
   ]
  },
  {
   "cell_type": "code",
   "execution_count": null,
   "id": "82a577da",
   "metadata": {
    "vscode": {
     "languageId": "plaintext"
    }
   },
   "outputs": [],
   "source": []
  },
  {
   "cell_type": "markdown",
   "id": "7f63b354",
   "metadata": {},
   "source": [
    "## 22. 💡 Electricity Bill Estimator\n",
    "\n",
    "Problem: Ask for the number of units used.\n",
    "Assume rate per unit is 25 PKR and print the total bill.\n",
    "\n",
    "**Steps:**\n",
    "\n",
    "1. Ask the user for the number of electricity units used.\n",
    "2. Multiply the units by 25.\n",
    "3. Display the total bill.\n"
   ]
  },
  {
   "cell_type": "code",
   "execution_count": null,
   "id": "2fe5ff96",
   "metadata": {
    "vscode": {
     "languageId": "plaintext"
    }
   },
   "outputs": [],
   "source": []
  },
  {
   "cell_type": "markdown",
   "id": "5be2b77d",
   "metadata": {},
   "source": [
    "## 23. 🥤 Juice Mixing Ratio\n",
    "\n",
    "Problem: Ask how many liters of orange juice and apple juice you mixed.\n",
    "Print the total mixture volume.\n",
    "\n",
    "**Steps:**\n",
    "\n",
    "1. Ask how many liters of orange juice were used.\n",
    "2. Ask how many liters of apple juice were used.\n",
    "3. Add both quantities.\n",
    "4. Display the total volume of the mixture.\n"
   ]
  },
  {
   "cell_type": "code",
   "execution_count": null,
   "id": "bffeeef9",
   "metadata": {
    "vscode": {
     "languageId": "plaintext"
    }
   },
   "outputs": [],
   "source": []
  },
  {
   "cell_type": "markdown",
   "id": "3cddca36",
   "metadata": {},
   "source": [
    "## 24. 🕹️ Game Score Total\n",
    "\n",
    "Problem: Ask for your scores in three game rounds and print the total score.\n",
    "\n",
    "**Steps:**\n",
    "\n",
    "1. Ask the user for their score in round 1.\n",
    "2. Ask for the score in round 2.\n",
    "3. Ask for the score in round 3.\n",
    "4. Add all three scores.\n",
    "5. Display the total score.\n"
   ]
  },
  {
   "cell_type": "code",
   "execution_count": null,
   "id": "002d352d",
   "metadata": {
    "vscode": {
     "languageId": "plaintext"
    }
   },
   "outputs": [],
   "source": []
  },
  {
   "cell_type": "markdown",
   "id": "5391a883",
   "metadata": {},
   "source": [
    "## 25. 📦 Volume of a Box\n",
    "\n",
    "Problem: Ask for the length, width, and height of a box and print its volume.\n",
    "\n",
    "**Steps:**\n",
    "\n",
    "1. Ask for the length of the box.\n",
    "2. Ask for the width.\n",
    "3. Ask for the height.\n",
    "4. Multiply length, width, and height.\n",
    "5. Display the volume.\n"
   ]
  },
  {
   "cell_type": "code",
   "execution_count": null,
   "id": "04929e50",
   "metadata": {
    "vscode": {
     "languageId": "plaintext"
    }
   },
   "outputs": [],
   "source": []
  },
  {
   "cell_type": "markdown",
   "id": "1a81ed94",
   "metadata": {},
   "source": [
    "# 🏁 End of Exercise\n"
   ]
  }
 ],
 "metadata": {
  "kernelspec": {
   "display_name": "base",
   "language": "python",
   "name": "python3"
  },
  "language_info": {
   "codemirror_mode": {
    "name": "ipython",
    "version": 3
   },
   "file_extension": ".py",
   "mimetype": "text/x-python",
   "name": "python",
   "nbconvert_exporter": "python",
   "pygments_lexer": "ipython3",
   "version": "3.13.5"
  }
 },
 "nbformat": 4,
 "nbformat_minor": 5
}
