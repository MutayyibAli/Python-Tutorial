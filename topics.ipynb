{
 "cells": [
  {
   "cell_type": "markdown",
   "id": "6464e452",
   "metadata": {},
   "source": [
    "1. Statement\n",
    "2. Comment\n",
    "   1. Single Line Comment\n",
    "   2. Multiline Comment\n",
    "3. Variables\n",
    "4. User Input\n"
   ]
  },
  {
   "cell_type": "markdown",
   "id": "ae943ecd",
   "metadata": {},
   "source": []
  }
 ],
 "metadata": {
  "language_info": {
   "name": "python"
  }
 },
 "nbformat": 4,
 "nbformat_minor": 5
}
