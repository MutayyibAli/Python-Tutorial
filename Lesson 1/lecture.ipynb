{
 "cells": [
  {
   "cell_type": "markdown",
   "id": "efc270e5",
   "metadata": {},
   "source": [
    "# 🐍 Introduction to Python\n",
    "\n",
    "## What is Python?\n",
    "\n",
    "Python is a **popular programming language** released in **1991**.\n",
    "\n",
    "There are many other programming languages with different strengths and weaknesses.\n",
    "Such as: C, C++, Java, Ruby, etc\n",
    "\n",
    "After learning one programming language you can learn others very easily.\n",
    "\n",
    "---\n",
    "\n",
    "## What Can Python Do?\n",
    "\n",
    "Python can do everything. But it specializes in following tasks.\n",
    "\n",
    "- **Machine Learning**\n",
    "- **Artificial Intelligence**\n",
    "- Create **web applications**\n",
    "- Automate **workflows**\n",
    "- Manage **databases**\n",
    "- Work with **files**\n",
    "- Handle **big data** and perform **complex calculations**\n",
    "- Build **applications**\n",
    "\n",
    "---\n",
    "\n",
    "## Why Python?\n",
    "\n",
    "- Works on multiple platforms: _Windows, Mac, Linux, etc._\n",
    "- Simple, **English-like syntax**\n",
    "- Requires **fewer lines of code** than many other languages\n",
    "- Runs on an **interpreter**, allowing **instant execution**\n",
    "- Supports **procedural**, **object-oriented**, and **functional** programming\n",
    "\n",
    "---\n",
    "\n",
    "## Getting Started\n",
    "\n",
    "- The latest major version is **Python 3.13**\n",
    "- You can write Python in:\n",
    "\n",
    "  - A **text editor**, or\n",
    "  - An **IDE** such as _VSCode, PyCharm, NetBeans, etc._\n",
    "\n",
    "- In this course we are using VS Code\n",
    "\n",
    "---\n"
   ]
  },
  {
   "cell_type": "markdown",
   "id": "8d380ec9",
   "metadata": {},
   "source": [
    "# 1- Statement\n",
    "\n",
    "A computer program is a list of **\"instructions\"** to be **\"executed\"** by a computer.\n",
    "\n",
    "In a programming language, these programming instructions are called **statements**.\n"
   ]
  },
  {
   "cell_type": "code",
   "execution_count": null,
   "id": "8e0c5f5c",
   "metadata": {},
   "outputs": [
    {
     "name": "stdout",
     "output_type": "stream",
     "text": [
      "Hello, World!\n"
     ]
    }
   ],
   "source": [
    "print(\"Hello, World!\")"
   ]
  },
  {
   "cell_type": "markdown",
   "id": "972c039b",
   "metadata": {},
   "source": [
    "#### Many Statements\n"
   ]
  },
  {
   "cell_type": "code",
   "execution_count": null,
   "id": "ff2ebf20",
   "metadata": {},
   "outputs": [
    {
     "name": "stdout",
     "output_type": "stream",
     "text": [
      "Hello World!\n",
      "Have a good day.\n",
      "Learning Python is fun!\n"
     ]
    }
   ],
   "source": [
    "print(\"Hello World!\")\n",
    "print(\"Have a good day.\")\n",
    "print(\"Learning Python is fun!\")"
   ]
  },
  {
   "cell_type": "markdown",
   "id": "ef4b1065",
   "metadata": {},
   "source": [
    "#### Semicolons (Optional, Rarely Used)\n"
   ]
  },
  {
   "cell_type": "code",
   "execution_count": 3,
   "id": "1b4f5a92",
   "metadata": {},
   "outputs": [
    {
     "name": "stdout",
     "output_type": "stream",
     "text": [
      "Hello\n",
      "How are you?\n",
      "Bye bye!\n"
     ]
    }
   ],
   "source": [
    "# DEMO\n",
    "print(\"Hello\")\n",
    "print(\"How are you?\")\n",
    "print(\"Bye bye!\")"
   ]
  },
  {
   "cell_type": "markdown",
   "id": "b1589c45",
   "metadata": {},
   "source": [
    "# 2- Comment\n",
    "\n",
    "- Comments can be used to explain Python code.\n",
    "\n",
    "- Comments can be used to make the code more readable.\n",
    "\n",
    "- Comments can be used to prevent execution when testing code.\n"
   ]
  },
  {
   "cell_type": "markdown",
   "id": "a300d325",
   "metadata": {},
   "source": [
    "#### Single Line Comments\n",
    "\n",
    "Comments starts with a #, and Python will ignore them.\n"
   ]
  },
  {
   "cell_type": "code",
   "execution_count": null,
   "id": "7dc7c494",
   "metadata": {},
   "outputs": [
    {
     "name": "stdout",
     "output_type": "stream",
     "text": [
      "Hello, World!\n"
     ]
    }
   ],
   "source": [
    "# This is a comment\n",
    "print(\"Hello, World!\")"
   ]
  },
  {
   "cell_type": "code",
   "execution_count": null,
   "id": "b2232548",
   "metadata": {},
   "outputs": [
    {
     "name": "stdout",
     "output_type": "stream",
     "text": [
      "Hello, World!\n"
     ]
    }
   ],
   "source": [
    "print(\"Hello, World!\")  # This is a comment"
   ]
  },
  {
   "cell_type": "code",
   "execution_count": 4,
   "id": "42721df0",
   "metadata": {},
   "outputs": [
    {
     "name": "stdout",
     "output_type": "stream",
     "text": [
      "Hello, Ali!\n"
     ]
    }
   ],
   "source": [
    "# print(\"Hello, World!\")\n",
    "print(\"Hello, Ali!\")"
   ]
  },
  {
   "cell_type": "markdown",
   "id": "f298d816",
   "metadata": {},
   "source": [
    "#### Multiline Comments\n",
    "\n",
    "You can add a multiline comment by adding triple quotes in your code.\n"
   ]
  },
  {
   "cell_type": "code",
   "execution_count": 5,
   "id": "0a7936af",
   "metadata": {},
   "outputs": [
    {
     "name": "stdout",
     "output_type": "stream",
     "text": [
      "Hello, World!\n"
     ]
    }
   ],
   "source": [
    "\"\"\"\n",
    "This is a comment\n",
    "written in\n",
    "more than just one line\n",
    "\"\"\"\n",
    "print(\"Hello, World!\")"
   ]
  },
  {
   "cell_type": "markdown",
   "id": "9ccbd3b5",
   "metadata": {},
   "source": [
    "# 3- Variables\n",
    "\n",
    "Variables are containers for storing data values.\n",
    "\n",
    "Variables can store data of different types, and different types can do different things.\n",
    "\n",
    "| Type       | Example       | Description                       |\n",
    "| ---------- | ------------- | --------------------------------- |\n",
    "| `int`      | `x = 10`      | Whole numbers (no decimal)        |\n",
    "| `float`    | `x = 10.5`    | Numbers with decimal point        |\n",
    "| `str`      | `x = \"Hello\"` | Sequence of Letters               |\n",
    "| `bool`     | `x = True`    | Boolean values: `True` or `False` |\n",
    "| `NoneType` | `x = None`    | Empty                             |\n",
    "\n",
    "Other Data types are\n",
    "\n",
    "complex, list, tuple, range, dict, set, frozenset, bytes, bytearray, memoryview\n"
   ]
  },
  {
   "cell_type": "code",
   "execution_count": 31,
   "id": "596953a8",
   "metadata": {},
   "outputs": [
    {
     "name": "stdout",
     "output_type": "stream",
     "text": [
      "10\n",
      "2.5\n",
      "<class 'int'>\n",
      "<class 'float'>\n"
     ]
    }
   ],
   "source": [
    "a = 5  # x is of type int\n",
    "b = \"Ali\"  # y is of type str\n",
    "\n",
    "x = a + 5\n",
    "y = a / 2\n",
    "z = \"Abdullah\"\n",
    "\n",
    "print(x)\n",
    "print(y)\n",
    "\n",
    "print(type(x))\n",
    "print(type(y))"
   ]
  },
  {
   "cell_type": "markdown",
   "id": "20ec9e41",
   "metadata": {},
   "source": [
    "#### Casting\n"
   ]
  },
  {
   "cell_type": "code",
   "execution_count": 10,
   "id": "d247e85a",
   "metadata": {},
   "outputs": [
    {
     "name": "stdout",
     "output_type": "stream",
     "text": [
      "5.2\n",
      "5\n"
     ]
    }
   ],
   "source": [
    "x = 5.2\n",
    "print(x)\n",
    "\n",
    "y = int(5.2)\n",
    "print(y)"
   ]
  },
  {
   "cell_type": "code",
   "execution_count": 5,
   "id": "f18c2d78",
   "metadata": {},
   "outputs": [],
   "source": [
    "# DEMO\n",
    "# TODO: Show string and int multiplication"
   ]
  },
  {
   "cell_type": "markdown",
   "id": "d660ab2b",
   "metadata": {},
   "source": [
    "#### Variable Names\n",
    "\n",
    "A variable can have a short name (like x and y) or a more descriptive name (age, carname, total_volume).\n",
    "\n",
    "Rules for Python variables:\n",
    "\n",
    "- A variable name must start with a letter or the underscore character\n",
    "- A variable name cannot start with a number\n",
    "- A variable name can only contain alpha-numeric characters and underscores (A-z, 0-9, and \\_ )\n",
    "- Variable names are case-sensitive (age, Age and AGE are three different variables)\n",
    "- A variable name cannot be any of the Python keywords. (and, or, if, for, etc)\n"
   ]
  },
  {
   "cell_type": "code",
   "execution_count": null,
   "id": "3486752d",
   "metadata": {},
   "outputs": [],
   "source": [
    "# Correct variable names\n",
    "myvar = \"Ali\"\n",
    "my_var = \"Ali\"\n",
    "_my_var = \"Ali\"\n",
    "myVar = \"Ali\"\n",
    "MyVAR = \"Ali\"\n",
    "myvar2 = \"Ali\"\n",
    "\n",
    "# Incorrect variable names\n",
    "\n",
    "# 2myvar = \"Ali\"\n",
    "# my-var = \"Ali\"\n",
    "# my var = \"Ali\""
   ]
  },
  {
   "cell_type": "markdown",
   "id": "4d41c296",
   "metadata": {},
   "source": [
    "#### Multi Words Variable Names\n",
    "\n",
    "Variable names with more than one word can be difficult to read.\n",
    "\n",
    "There are several techniques you can use to make them more readable:\n",
    "\n",
    "- Camel Case: Each word, except the first, starts with a capital letter.\n",
    "- Pascal Case: Each word starts with a capital letter.\n",
    "- Snake Case: Each word is separated by an underscore character.\n"
   ]
  },
  {
   "cell_type": "code",
   "execution_count": null,
   "id": "569f9af6",
   "metadata": {},
   "outputs": [],
   "source": [
    "# Camel Case\n",
    "myVariableName = \"Ali\"\n",
    "\n",
    "# Pascal Case\n",
    "MyVariableName = \"Ali\"\n",
    "\n",
    "# Snake Case\n",
    "my_variable_name = \"Ali\""
   ]
  },
  {
   "cell_type": "markdown",
   "id": "4f91d165",
   "metadata": {},
   "source": [
    "#### Multiple Variable Assignment\n"
   ]
  },
  {
   "cell_type": "code",
   "execution_count": 16,
   "id": "4100e326",
   "metadata": {},
   "outputs": [
    {
     "name": "stdout",
     "output_type": "stream",
     "text": [
      "Orange\n",
      "Banana\n",
      "Cherry\n",
      "Mango\n",
      "Mango\n",
      "Mango\n"
     ]
    }
   ],
   "source": [
    "# Python allows you to assign values to multiple variables in one line.\n",
    "a, b, c = \"Orange\", \"Banana\", \"Cherry\"\n",
    "print(a)\n",
    "print(b)\n",
    "print(c)\n",
    "\n",
    "# And you can assign the same value to multiple variables in one line\n",
    "x = y = z = \"Mango\"\n",
    "print(x)\n",
    "print(y)\n",
    "print(z)"
   ]
  },
  {
   "cell_type": "markdown",
   "id": "93e33145",
   "metadata": {},
   "source": [
    "#### String\n",
    "\n",
    "Strings in python are surrounded by either single quotation marks, or double quotation marks.\n",
    "\n",
    "`'hello'` is the same as `\"hello\"`.\n"
   ]
  },
  {
   "cell_type": "code",
   "execution_count": null,
   "id": "6cb2adbd",
   "metadata": {},
   "outputs": [
    {
     "name": "stdout",
     "output_type": "stream",
     "text": [
      "Hello\n",
      "Hello\n"
     ]
    }
   ],
   "source": [
    "print(\"Hello\")\n",
    "print(\"Hello\")"
   ]
  },
  {
   "cell_type": "code",
   "execution_count": 22,
   "id": "88e9d39b",
   "metadata": {},
   "outputs": [
    {
     "name": "stdout",
     "output_type": "stream",
     "text": [
      "It's alright\n",
      "He is called 'Ali'\n",
      "He is called \"Ali\"\n"
     ]
    }
   ],
   "source": [
    "# You can use quotes inside a string, as long as they don't match the quotes surrounding the string.\n",
    "\n",
    "print(\"It's alright\")\n",
    "print(\"He is called 'Ali'\")\n",
    "print('He is called \"Ali\"')"
   ]
  },
  {
   "cell_type": "code",
   "execution_count": 23,
   "id": "8239edcd",
   "metadata": {},
   "outputs": [
    {
     "name": "stdout",
     "output_type": "stream",
     "text": [
      "Lorem ipsum dolor sit amet,\n",
      "consectetur adipiscing elit,\n",
      "sed do eiusmod tempor incididunt\n",
      "ut labore et dolore magna aliqua.\n"
     ]
    }
   ],
   "source": [
    "a = \"\"\"Lorem ipsum dolor sit amet,\n",
    "consectetur adipiscing elit,\n",
    "sed do eiusmod tempor incididunt\n",
    "ut labore et dolore magna aliqua.\"\"\"\n",
    "\n",
    "print(a)"
   ]
  },
  {
   "cell_type": "markdown",
   "id": "9cc66c4f",
   "metadata": {},
   "source": [
    "#### Length of a String\n",
    "\n",
    "To get the length of a string, use the len() function.\n"
   ]
  },
  {
   "cell_type": "code",
   "execution_count": 24,
   "id": "27f2ddda",
   "metadata": {},
   "outputs": [
    {
     "name": "stdout",
     "output_type": "stream",
     "text": [
      "13\n"
     ]
    }
   ],
   "source": [
    "a = \"Hello, World!\"\n",
    "print(len(a))"
   ]
  },
  {
   "cell_type": "markdown",
   "id": "f1d7c8ea",
   "metadata": {},
   "source": [
    "#### Booleans\n",
    "\n",
    "Booleans represent one of two values: True or False\n"
   ]
  },
  {
   "cell_type": "code",
   "execution_count": 25,
   "id": "a7ddbf92",
   "metadata": {},
   "outputs": [
    {
     "name": "stdout",
     "output_type": "stream",
     "text": [
      "True\n",
      "False\n"
     ]
    }
   ],
   "source": [
    "a = True\n",
    "b = False\n",
    "\n",
    "print(a)\n",
    "print(b)"
   ]
  },
  {
   "cell_type": "markdown",
   "id": "0daf8d0d",
   "metadata": {},
   "source": [
    "#### Other Types to bool\n",
    "\n",
    "Most Values are True\n",
    "\n",
    "- Almost any value is evaluated to True if it has some sort of content.\n",
    "- Any string is True, except empty strings.\n",
    "- Any number is True, except 0.\n",
    "\n",
    "Some Values are False\n",
    "\n",
    "- In fact, there are not many values that evaluate to False, except empty values,\n",
    "- Such as \"\", the number 0, and the value None.\n"
   ]
  },
  {
   "cell_type": "code",
   "execution_count": null,
   "id": "3b9b8a7b",
   "metadata": {},
   "outputs": [
    {
     "name": "stdout",
     "output_type": "stream",
     "text": [
      "True\n",
      "True\n",
      "True\n",
      "False\n",
      "False\n",
      "False\n"
     ]
    }
   ],
   "source": [
    "a = bool(\"abc\")\n",
    "b = bool(123)\n",
    "c = bool([\"apple\", \"cherry\", \"banana\"])\n",
    "\n",
    "d = bool(None)\n",
    "e = bool(0)\n",
    "f = bool(\"\")\n",
    "\n",
    "print(a)\n",
    "print(b)\n",
    "print(c)\n",
    "print(d)\n",
    "print(e)\n",
    "print(f)"
   ]
  },
  {
   "cell_type": "markdown",
   "id": "5c483ead",
   "metadata": {},
   "source": [
    "# 4. User Input\n",
    "\n",
    "In Python, we use the input() function to take input from the user.\n",
    "\n",
    "It always returns data as a string, even if you type a number.\n"
   ]
  },
  {
   "cell_type": "code",
   "execution_count": 28,
   "id": "989a224b",
   "metadata": {},
   "outputs": [
    {
     "name": "stdout",
     "output_type": "stream",
     "text": [
      "Ali\n"
     ]
    }
   ],
   "source": [
    "name = input(\"Enter your name: \")\n",
    "print(name)"
   ]
  },
  {
   "cell_type": "code",
   "execution_count": null,
   "id": "16b261d0",
   "metadata": {},
   "outputs": [],
   "source": [
    "# DEMO\n",
    "# TODO: Show type conversion with user input"
   ]
  },
  {
   "cell_type": "markdown",
   "id": "b3cdedd1",
   "metadata": {},
   "source": [
    "# Final Exercise\n"
   ]
  },
  {
   "cell_type": "markdown",
   "id": "615e2c00",
   "metadata": {},
   "source": [
    "## 🧮 Basic Calculator\n"
   ]
  },
  {
   "cell_type": "code",
   "execution_count": 30,
   "id": "b31a4f13",
   "metadata": {},
   "outputs": [
    {
     "name": "stdout",
     "output_type": "stream",
     "text": [
      "Results:\n",
      "Sum: 10.0\n",
      "Difference: 0.0\n",
      "Product: 25.0\n"
     ]
    }
   ],
   "source": [
    "## Basic Calculator\n",
    "\n",
    "# Take two numbers as input\n",
    "input1 = input(\"Enter first number: \")\n",
    "input2 = input(\"Enter second number: \")\n",
    "\n",
    "# Convert string -> float\n",
    "num1 = float(input1)\n",
    "num2 = float(input2)\n",
    "\n",
    "# Perform calculations\n",
    "sum_result = num1 + num2\n",
    "diff_result = num1 - num2\n",
    "mul_result = num1 * num2\n",
    "\n",
    "# Display results\n",
    "print(\"Results:\")\n",
    "print(\"Sum:\", sum_result)\n",
    "print(\"Difference:\", diff_result)\n",
    "print(\"Product:\", mul_result)\n"
   ]
  },
  {
   "cell_type": "markdown",
   "id": "1bf57bf5",
   "metadata": {},
   "source": [
    "## ⚖️ Basic BMI Calculator\n",
    "\n",
    "![image.png](https://articles-1mg.gumlet.io/articles/wp-content/uploads/2018/07/BMI.jpg?compress=true&quality=80&w=640&dpr=2.6)\n"
   ]
  },
  {
   "cell_type": "code",
   "execution_count": null,
   "id": "6c5fc31a",
   "metadata": {},
   "outputs": [
    {
     "name": "stdout",
     "output_type": "stream",
     "text": [
      "Hello 5\n",
      "Your BMI is: 0.2\n"
     ]
    }
   ],
   "source": [
    "## BMI Calculator\n",
    "\n",
    "# Ask for user input\n",
    "name = input(\"Enter your name: \")\n",
    "weight = float(input(\"Enter your weight (in kg): \"))\n",
    "height = float(input(\"Enter your height (in meters): \"))\n",
    "\n",
    "# Calculate BMI\n",
    "bmi = weight / (height**2)\n",
    "\n",
    "# Display result\n",
    "print(\"Hello\", name)\n",
    "print(\"Your BMI is:\", bmi)"
   ]
  },
  {
   "cell_type": "markdown",
   "id": "4031f47d",
   "metadata": {},
   "source": [
    "#### End of Lecture\n"
   ]
  }
 ],
 "metadata": {
  "kernelspec": {
   "display_name": "base",
   "language": "python",
   "name": "python3"
  },
  "language_info": {
   "codemirror_mode": {
    "name": "ipython",
    "version": 3
   },
   "file_extension": ".py",
   "mimetype": "text/x-python",
   "name": "python",
   "nbconvert_exporter": "python",
   "pygments_lexer": "ipython3",
   "version": "3.13.5"
  }
 },
 "nbformat": 4,
 "nbformat_minor": 5
}
