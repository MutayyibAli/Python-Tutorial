{
 "cells": [
  {
   "cell_type": "markdown",
   "id": "5f38da6d",
   "metadata": {},
   "source": [
    "# Exercise\n"
   ]
  },
  {
   "cell_type": "markdown",
   "id": "a7094e43",
   "metadata": {},
   "source": [
    "## 1. 🧮 Area of a Rectangle\n",
    "\n",
    "Problem: Write a Python program that takes the length and width of a rectangle as input and prints its area.\n"
   ]
  },
  {
   "cell_type": "code",
   "execution_count": null,
   "id": "8879928e",
   "metadata": {},
   "outputs": [],
   "source": [
    "# Take input for length and width\n",
    "length = float(input(\"Enter length of rectangle: \"))\n",
    "width = float(input(\"Enter width of rectangle: \"))\n",
    "\n",
    "# Calculate area\n",
    "area = length * width\n",
    "\n",
    "# Display result\n",
    "print(\"Area of rectangle is:\", area)"
   ]
  },
  {
   "cell_type": "markdown",
   "id": "98f83c52",
   "metadata": {},
   "source": [
    "## 2. 🌡️ Temperature Converter (Celsius → Fahrenheit)\n",
    "\n",
    "Problem: Write a program that converts a temperature in Celsius to Fahrenheit using the formula F = (C × 9/5) + 32.\n"
   ]
  },
  {
   "cell_type": "code",
   "execution_count": null,
   "id": "878d517b",
   "metadata": {},
   "outputs": [],
   "source": [
    "# Take temperature in Celsius\n",
    "celsius = float(input(\"Enter temperature in Celsius: \"))\n",
    "\n",
    "# Convert to Fahrenheit\n",
    "fahrenheit = (celsius * 9 / 5) + 32\n",
    "\n",
    "# Display result\n",
    "print(\"Temperature in Fahrenheit:\", fahrenheit)"
   ]
  },
  {
   "cell_type": "markdown",
   "id": "e8f9f6cc",
   "metadata": {},
   "source": [
    "## 3. ⏱️ Minutes to Hours Converter\n",
    "\n",
    "Problem: Write a program that takes time in minutes and converts it into hours.\n"
   ]
  },
  {
   "cell_type": "code",
   "execution_count": null,
   "id": "9a8f76e8",
   "metadata": {},
   "outputs": [],
   "source": [
    "# Take input in minutes\n",
    "minutes = int(input(\"Enter time in minutes: \"))\n",
    "\n",
    "# Convert to hours\n",
    "hours = minutes / 60\n",
    "\n",
    "# Display result\n",
    "print(\"That is equal to\", hours, \"hours\")"
   ]
  },
  {
   "cell_type": "markdown",
   "id": "77ee6c22",
   "metadata": {},
   "source": [
    "## 4. 💰 Simple Interest Calculator\n",
    "\n",
    "Problem: Write a program to calculate simple interest using the formula\n",
    "Interest = (Principal × Rate × Time) / 100.\n"
   ]
  },
  {
   "cell_type": "code",
   "execution_count": null,
   "id": "95896283",
   "metadata": {},
   "outputs": [],
   "source": [
    "# Take inputs\n",
    "principal = float(input(\"Enter principal amount: \"))\n",
    "rate = float(input(\"Enter rate of interest (%): \"))\n",
    "time = float(input(\"Enter time (in years): \"))\n",
    "\n",
    "# Calculate simple interest\n",
    "interest = (principal * rate * time) / 100\n",
    "\n",
    "# Display result\n",
    "print(\"Simple Interest is:\", interest)"
   ]
  },
  {
   "cell_type": "markdown",
   "id": "e6147dc8",
   "metadata": {},
   "source": [
    "## 5. 🕰️ Age Calculator\n",
    "\n",
    "Problem: Ask the user for their name and birth year, then calculate and display their age in 2025.\n"
   ]
  },
  {
   "cell_type": "code",
   "execution_count": null,
   "id": "23f6a298",
   "metadata": {},
   "outputs": [],
   "source": [
    "# Take input\n",
    "name = input(\"Enter your name: \")\n",
    "birth_year = int(input(\"Enter your birth year: \"))\n",
    "\n",
    "# Calculate age\n",
    "current_year = 2025\n",
    "age = current_year - birth_year\n",
    "\n",
    "# Display result\n",
    "print(\"Hello\", name + \"!\", \"You are\", age, \"years old.\")"
   ]
  },
  {
   "cell_type": "markdown",
   "id": "9291c877",
   "metadata": {},
   "source": [
    "## 6. 🧊 Cube and Square Finder\n",
    "\n",
    "Problem: Write a program that takes a number and prints its square and cube.\n"
   ]
  },
  {
   "cell_type": "code",
   "execution_count": null,
   "id": "084906aa",
   "metadata": {},
   "outputs": [],
   "source": [
    "# Take a number\n",
    "num = float(input(\"Enter a number: \"))\n",
    "\n",
    "# Calculate\n",
    "square = num**2\n",
    "cube = num**3\n",
    "\n",
    "# Display\n",
    "print(\"Square:\", square)\n",
    "print(\"Cube:\", cube)"
   ]
  },
  {
   "cell_type": "markdown",
   "id": "1e2ae025",
   "metadata": {},
   "source": [
    "## 7. 💱 Currency Converter (PKR → USD)\n",
    "\n",
    "Problem: Write a program that converts an amount in Pakistani Rupees (PKR) to US Dollars (USD).\n",
    "\n",
    "Assume 1 USD = 280 PKR.\n"
   ]
  },
  {
   "cell_type": "code",
   "execution_count": null,
   "id": "a31cbbbf",
   "metadata": {},
   "outputs": [],
   "source": [
    "# Take input in PKR\n",
    "pkr = float(input(\"Enter amount in PKR: \"))\n",
    "\n",
    "# Assume 1 USD = 280 PKR\n",
    "usd = pkr / 280\n",
    "\n",
    "# Display\n",
    "print(\"Amount in USD:\", round(usd, 2))"
   ]
  },
  {
   "cell_type": "markdown",
   "id": "140fcd45",
   "metadata": {},
   "source": [
    "## 8. 🔢 Average of Three Numbers\n",
    "\n",
    "Problem: Write a program that asks the user to enter three numbers and prints their average.\n"
   ]
  },
  {
   "cell_type": "code",
   "execution_count": null,
   "id": "e1a1dff9",
   "metadata": {},
   "outputs": [],
   "source": [
    "# Take three numbers\n",
    "a = float(input(\"Enter first number: \"))\n",
    "b = float(input(\"Enter second number: \"))\n",
    "c = float(input(\"Enter third number: \"))\n",
    "\n",
    "# Calculate average\n",
    "average = (a + b + c) / 3\n",
    "\n",
    "# Display result\n",
    "print(\"Average is:\", average)"
   ]
  },
  {
   "cell_type": "markdown",
   "id": "f58fe70e",
   "metadata": {},
   "source": [
    "## 9. 🚗 Speed Calculator\n",
    "\n",
    "Problem: Write a program that calculates speed using the formula\n",
    "\n",
    "Speed = Distance / Time.\n",
    "\n",
    "Take distance (km) and time (hours) as input.\n"
   ]
  },
  {
   "cell_type": "code",
   "execution_count": null,
   "id": "68a2caa5",
   "metadata": {},
   "outputs": [],
   "source": [
    "# Take distance and time\n",
    "distance = float(input(\"Enter distance (in km): \"))\n",
    "time = float(input(\"Enter time (in hours): \"))\n",
    "\n",
    "# Calculate speed\n",
    "speed = distance / time\n",
    "\n",
    "# Display\n",
    "print(\"Speed is:\", speed, \"km/h\")"
   ]
  },
  {
   "cell_type": "markdown",
   "id": "4a82098f",
   "metadata": {},
   "source": [
    "## 10. 💧 Water Bill Estimator\n",
    "\n",
    "Problem: Write a program that calculates a water bill.\n",
    "Ask the user for the number of liters used, and assume the rate is 0.5 PKR per liter.\n"
   ]
  },
  {
   "cell_type": "code",
   "execution_count": null,
   "id": "59b91a3d",
   "metadata": {},
   "outputs": [],
   "source": [
    "# Take water usage\n",
    "liters = float(input(\"Enter water used (in liters): \"))\n",
    "\n",
    "# Assume rate per liter\n",
    "rate = 0.5\n",
    "\n",
    "# Calculate total bill\n",
    "bill = liters * rate\n",
    "\n",
    "# Display\n",
    "print(\"Your water bill is:\", bill, \"PKR\")"
   ]
  },
  {
   "cell_type": "markdown",
   "id": "043405cb",
   "metadata": {},
   "source": [
    "# End of Exercise\n"
   ]
  }
 ],
 "metadata": {
  "kernelspec": {
   "display_name": "base",
   "language": "python",
   "name": "python3"
  },
  "language_info": {
   "codemirror_mode": {
    "name": "ipython",
    "version": 3
   },
   "file_extension": ".py",
   "mimetype": "text/x-python",
   "name": "python",
   "nbconvert_exporter": "python",
   "pygments_lexer": "ipython3",
   "version": "3.13.5"
  }
 },
 "nbformat": 4,
 "nbformat_minor": 5
}
